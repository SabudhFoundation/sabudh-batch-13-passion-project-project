{
 "cells": [
  {
   "cell_type": "markdown",
   "id": "9fbf9623-b9f2-4b64-bf62-f0e04dda2553",
   "metadata": {},
   "source": [
    "## Dataset By using hugging face"
   ]
  },
  {
   "cell_type": "code",
   "execution_count": 2,
   "id": "2d63b211-3577-4f72-b2dd-b50900e0a249",
   "metadata": {},
   "outputs": [],
   "source": [
    "import pandas as pd\n",
    "\n",
    "df = pd.read_csv(\"hf://datasets/jacob-hugging-face/job-descriptions/training_data.csv\")"
   ]
  },
  {
   "cell_type": "code",
   "execution_count": 3,
   "id": "8c2ea480-0a39-4f2b-a5ae-d079d9b101ab",
   "metadata": {},
   "outputs": [
    {
     "data": {
      "text/html": [
       "<div>\n",
       "<style scoped>\n",
       "    .dataframe tbody tr th:only-of-type {\n",
       "        vertical-align: middle;\n",
       "    }\n",
       "\n",
       "    .dataframe tbody tr th {\n",
       "        vertical-align: top;\n",
       "    }\n",
       "\n",
       "    .dataframe thead th {\n",
       "        text-align: right;\n",
       "    }\n",
       "</style>\n",
       "<table border=\"1\" class=\"dataframe\">\n",
       "  <thead>\n",
       "    <tr style=\"text-align: right;\">\n",
       "      <th></th>\n",
       "      <th>company_name</th>\n",
       "      <th>job_description</th>\n",
       "      <th>position_title</th>\n",
       "      <th>description_length</th>\n",
       "      <th>model_response</th>\n",
       "    </tr>\n",
       "  </thead>\n",
       "  <tbody>\n",
       "    <tr>\n",
       "      <th>0</th>\n",
       "      <td>Google</td>\n",
       "      <td>minimum qualifications\\nbachelors degree or eq...</td>\n",
       "      <td>Sales Specialist</td>\n",
       "      <td>2727</td>\n",
       "      <td>{\\n  \"Core Responsibilities\": \"Responsible fo...</td>\n",
       "    </tr>\n",
       "    <tr>\n",
       "      <th>1</th>\n",
       "      <td>Apple</td>\n",
       "      <td>description\\nas an asc you will be highly infl...</td>\n",
       "      <td>Apple Solutions Consultant</td>\n",
       "      <td>828</td>\n",
       "      <td>{\\n  \"Core Responsibilities\": \"as an asc you ...</td>\n",
       "    </tr>\n",
       "    <tr>\n",
       "      <th>2</th>\n",
       "      <td>Netflix</td>\n",
       "      <td>its an amazing time to be joining netflix as w...</td>\n",
       "      <td>Licensing Coordinator - Consumer Products</td>\n",
       "      <td>3205</td>\n",
       "      <td>{\\n  \"Core Responsibilities\": \"Help drive bus...</td>\n",
       "    </tr>\n",
       "    <tr>\n",
       "      <th>3</th>\n",
       "      <td>Robert Half</td>\n",
       "      <td>description\\n\\nweb designers looking to expand...</td>\n",
       "      <td>Web Designer</td>\n",
       "      <td>2489</td>\n",
       "      <td>{\\n  \"Core Responsibilities\": \"Designing webs...</td>\n",
       "    </tr>\n",
       "    <tr>\n",
       "      <th>4</th>\n",
       "      <td>TrackFive</td>\n",
       "      <td>at trackfive weve got big goals were on a miss...</td>\n",
       "      <td>Web Developer</td>\n",
       "      <td>3167</td>\n",
       "      <td>{\\n  \"Core Responsibilities\": \"Build and layo...</td>\n",
       "    </tr>\n",
       "  </tbody>\n",
       "</table>\n",
       "</div>"
      ],
      "text/plain": [
       "  company_name                                    job_description  \\\n",
       "0       Google  minimum qualifications\\nbachelors degree or eq...   \n",
       "1        Apple  description\\nas an asc you will be highly infl...   \n",
       "2      Netflix  its an amazing time to be joining netflix as w...   \n",
       "3  Robert Half  description\\n\\nweb designers looking to expand...   \n",
       "4    TrackFive  at trackfive weve got big goals were on a miss...   \n",
       "\n",
       "                              position_title  description_length  \\\n",
       "0                           Sales Specialist                2727   \n",
       "1                 Apple Solutions Consultant                 828   \n",
       "2  Licensing Coordinator - Consumer Products                3205   \n",
       "3                               Web Designer                2489   \n",
       "4                              Web Developer                3167   \n",
       "\n",
       "                                      model_response  \n",
       "0   {\\n  \"Core Responsibilities\": \"Responsible fo...  \n",
       "1   {\\n  \"Core Responsibilities\": \"as an asc you ...  \n",
       "2   {\\n  \"Core Responsibilities\": \"Help drive bus...  \n",
       "3   {\\n  \"Core Responsibilities\": \"Designing webs...  \n",
       "4   {\\n  \"Core Responsibilities\": \"Build and layo...  "
      ]
     },
     "execution_count": 3,
     "metadata": {},
     "output_type": "execute_result"
    }
   ],
   "source": [
    "df.head()"
   ]
  },
  {
   "cell_type": "code",
   "execution_count": 5,
   "id": "b6678e01-c3c3-4236-bc70-e33e9495860a",
   "metadata": {},
   "outputs": [],
   "source": [
    "df.drop(columns = [\"company_name\",'description_length','model_response'],inplace = True)"
   ]
  },
  {
   "cell_type": "code",
   "execution_count": 6,
   "id": "3fadb8a1-2ca3-44c7-99d5-75a46cdd276d",
   "metadata": {},
   "outputs": [
    {
     "data": {
      "text/html": [
       "<div>\n",
       "<style scoped>\n",
       "    .dataframe tbody tr th:only-of-type {\n",
       "        vertical-align: middle;\n",
       "    }\n",
       "\n",
       "    .dataframe tbody tr th {\n",
       "        vertical-align: top;\n",
       "    }\n",
       "\n",
       "    .dataframe thead th {\n",
       "        text-align: right;\n",
       "    }\n",
       "</style>\n",
       "<table border=\"1\" class=\"dataframe\">\n",
       "  <thead>\n",
       "    <tr style=\"text-align: right;\">\n",
       "      <th></th>\n",
       "      <th>job_description</th>\n",
       "      <th>position_title</th>\n",
       "    </tr>\n",
       "  </thead>\n",
       "  <tbody>\n",
       "    <tr>\n",
       "      <th>0</th>\n",
       "      <td>minimum qualifications\\nbachelors degree or eq...</td>\n",
       "      <td>Sales Specialist</td>\n",
       "    </tr>\n",
       "    <tr>\n",
       "      <th>1</th>\n",
       "      <td>description\\nas an asc you will be highly infl...</td>\n",
       "      <td>Apple Solutions Consultant</td>\n",
       "    </tr>\n",
       "    <tr>\n",
       "      <th>2</th>\n",
       "      <td>its an amazing time to be joining netflix as w...</td>\n",
       "      <td>Licensing Coordinator - Consumer Products</td>\n",
       "    </tr>\n",
       "    <tr>\n",
       "      <th>3</th>\n",
       "      <td>description\\n\\nweb designers looking to expand...</td>\n",
       "      <td>Web Designer</td>\n",
       "    </tr>\n",
       "    <tr>\n",
       "      <th>4</th>\n",
       "      <td>at trackfive weve got big goals were on a miss...</td>\n",
       "      <td>Web Developer</td>\n",
       "    </tr>\n",
       "  </tbody>\n",
       "</table>\n",
       "</div>"
      ],
      "text/plain": [
       "                                     job_description  \\\n",
       "0  minimum qualifications\\nbachelors degree or eq...   \n",
       "1  description\\nas an asc you will be highly infl...   \n",
       "2  its an amazing time to be joining netflix as w...   \n",
       "3  description\\n\\nweb designers looking to expand...   \n",
       "4  at trackfive weve got big goals were on a miss...   \n",
       "\n",
       "                              position_title  \n",
       "0                           Sales Specialist  \n",
       "1                 Apple Solutions Consultant  \n",
       "2  Licensing Coordinator - Consumer Products  \n",
       "3                               Web Designer  \n",
       "4                              Web Developer  "
      ]
     },
     "execution_count": 6,
     "metadata": {},
     "output_type": "execute_result"
    }
   ],
   "source": [
    "df.head(5)"
   ]
  },
  {
   "cell_type": "code",
   "execution_count": 7,
   "id": "7cb85e34-e151-49e0-9ebf-c551a948e095",
   "metadata": {},
   "outputs": [],
   "source": [
    "df.to_csv(\"job_titles_des_1.csv\" ,index = False)"
   ]
  },
  {
   "cell_type": "markdown",
   "id": "6c8fe840-3449-4b6a-8bb4-72b6952f2dfe",
   "metadata": {},
   "source": [
    "## Another dataset by using hugging face"
   ]
  },
  {
   "cell_type": "code",
   "execution_count": 11,
   "id": "5af7fc51-9ce3-47aa-9f5e-ecc3f61fc3ec",
   "metadata": {},
   "outputs": [],
   "source": [
    "df1 = pd.read_csv(\"hf://datasets/rohankrishna99/job-descriptions-dataset-mini/jd_training_dataset_0.csv\")"
   ]
  },
  {
   "cell_type": "code",
   "execution_count": 12,
   "id": "b027c2c3-468a-4e55-a898-25898b75c15e",
   "metadata": {},
   "outputs": [
    {
     "data": {
      "text/html": [
       "<div>\n",
       "<style scoped>\n",
       "    .dataframe tbody tr th:only-of-type {\n",
       "        vertical-align: middle;\n",
       "    }\n",
       "\n",
       "    .dataframe tbody tr th {\n",
       "        vertical-align: top;\n",
       "    }\n",
       "\n",
       "    .dataframe thead th {\n",
       "        text-align: right;\n",
       "    }\n",
       "</style>\n",
       "<table border=\"1\" class=\"dataframe\">\n",
       "  <thead>\n",
       "    <tr style=\"text-align: right;\">\n",
       "      <th></th>\n",
       "      <th>Title</th>\n",
       "      <th>JobDescription</th>\n",
       "      <th>JobRequirment</th>\n",
       "      <th>RequiredQual</th>\n",
       "      <th>IT</th>\n",
       "    </tr>\n",
       "  </thead>\n",
       "  <tbody>\n",
       "    <tr>\n",
       "      <th>0</th>\n",
       "      <td>Chief Financial Officer</td>\n",
       "      <td>AMERIA Investment Consulting Company is seekin...</td>\n",
       "      <td>- Supervises financial management and administ...</td>\n",
       "      <td>To perform this job successfully, an\\r\\nindivi...</td>\n",
       "      <td>False</td>\n",
       "    </tr>\n",
       "    <tr>\n",
       "      <th>1</th>\n",
       "      <td>Full-time Community Connections Intern (paid i...</td>\n",
       "      <td>NaN</td>\n",
       "      <td>NaN</td>\n",
       "      <td>- Bachelor's Degree; Master's is preferred;\\r\\...</td>\n",
       "      <td>False</td>\n",
       "    </tr>\n",
       "    <tr>\n",
       "      <th>2</th>\n",
       "      <td>Country Coordinator</td>\n",
       "      <td>Public outreach and strengthening of a growing...</td>\n",
       "      <td>- Working with the Country Director to provide...</td>\n",
       "      <td>- Degree in environmentally related field, or ...</td>\n",
       "      <td>False</td>\n",
       "    </tr>\n",
       "    <tr>\n",
       "      <th>3</th>\n",
       "      <td>BCC Specialist</td>\n",
       "      <td>The LEAD (Local Enhancement and Development fo...</td>\n",
       "      <td>- Identify gaps in knowledge and overseeing in...</td>\n",
       "      <td>- Advanced degree in public health, social sci...</td>\n",
       "      <td>False</td>\n",
       "    </tr>\n",
       "    <tr>\n",
       "      <th>4</th>\n",
       "      <td>Software Developer</td>\n",
       "      <td>NaN</td>\n",
       "      <td>- Rendering technical assistance to Database M...</td>\n",
       "      <td>- University degree; economical background is ...</td>\n",
       "      <td>True</td>\n",
       "    </tr>\n",
       "  </tbody>\n",
       "</table>\n",
       "</div>"
      ],
      "text/plain": [
       "                                               Title  \\\n",
       "0                            Chief Financial Officer   \n",
       "1  Full-time Community Connections Intern (paid i...   \n",
       "2                                Country Coordinator   \n",
       "3                                     BCC Specialist   \n",
       "4                                 Software Developer   \n",
       "\n",
       "                                      JobDescription  \\\n",
       "0  AMERIA Investment Consulting Company is seekin...   \n",
       "1                                                NaN   \n",
       "2  Public outreach and strengthening of a growing...   \n",
       "3  The LEAD (Local Enhancement and Development fo...   \n",
       "4                                                NaN   \n",
       "\n",
       "                                       JobRequirment  \\\n",
       "0  - Supervises financial management and administ...   \n",
       "1                                                NaN   \n",
       "2  - Working with the Country Director to provide...   \n",
       "3  - Identify gaps in knowledge and overseeing in...   \n",
       "4  - Rendering technical assistance to Database M...   \n",
       "\n",
       "                                        RequiredQual     IT  \n",
       "0  To perform this job successfully, an\\r\\nindivi...  False  \n",
       "1  - Bachelor's Degree; Master's is preferred;\\r\\...  False  \n",
       "2  - Degree in environmentally related field, or ...  False  \n",
       "3  - Advanced degree in public health, social sci...  False  \n",
       "4  - University degree; economical background is ...   True  "
      ]
     },
     "execution_count": 12,
     "metadata": {},
     "output_type": "execute_result"
    }
   ],
   "source": [
    "df1.head()"
   ]
  },
  {
   "cell_type": "code",
   "execution_count": 13,
   "id": "bbd6eea8-3741-4301-b121-a0a4a1346aab",
   "metadata": {},
   "outputs": [],
   "source": [
    "df1.to_csv(\"job_titles_des_2.csv\" ,index = False)"
   ]
  },
  {
   "cell_type": "markdown",
   "id": "04792e29-6a2c-418c-afe8-c3e9e7de7a1a",
   "metadata": {},
   "source": [
    "## Another dataset by using hugging face"
   ]
  },
  {
   "cell_type": "code",
   "execution_count": 14,
   "id": "f28317cc-4adb-4261-ab2d-b28c716cfc95",
   "metadata": {},
   "outputs": [],
   "source": [
    "df2 = pd.read_csv(\"hf://datasets/Ronysalem/job_description_sample/job_description_sample.csv\")"
   ]
  },
  {
   "cell_type": "code",
   "execution_count": 15,
   "id": "126696a6-5ff9-4554-8d71-9e47b06038a6",
   "metadata": {},
   "outputs": [
    {
     "data": {
      "text/html": [
       "<div>\n",
       "<style scoped>\n",
       "    .dataframe tbody tr th:only-of-type {\n",
       "        vertical-align: middle;\n",
       "    }\n",
       "\n",
       "    .dataframe tbody tr th {\n",
       "        vertical-align: top;\n",
       "    }\n",
       "\n",
       "    .dataframe thead th {\n",
       "        text-align: right;\n",
       "    }\n",
       "</style>\n",
       "<table border=\"1\" class=\"dataframe\">\n",
       "  <thead>\n",
       "    <tr style=\"text-align: right;\">\n",
       "      <th></th>\n",
       "      <th>Unnamed: 0</th>\n",
       "      <th>instruction</th>\n",
       "      <th>completion</th>\n",
       "    </tr>\n",
       "  </thead>\n",
       "  <tbody>\n",
       "    <tr>\n",
       "      <th>0</th>\n",
       "      <td>0</td>\n",
       "      <td>Generate a job description for a Software Engi...</td>\n",
       "      <td>Software Engineer responsible for designing, d...</td>\n",
       "    </tr>\n",
       "    <tr>\n",
       "      <th>1</th>\n",
       "      <td>1</td>\n",
       "      <td>Generate a job description for a Marketing Man...</td>\n",
       "      <td>Marketing Manager responsible for leading the ...</td>\n",
       "    </tr>\n",
       "    <tr>\n",
       "      <th>2</th>\n",
       "      <td>2</td>\n",
       "      <td>Generate a job description for a Data Analyst ...</td>\n",
       "      <td>Data Analyst responsible for collecting, analy...</td>\n",
       "    </tr>\n",
       "    <tr>\n",
       "      <th>3</th>\n",
       "      <td>3</td>\n",
       "      <td>Generate a job description for a Human Resourc...</td>\n",
       "      <td>Human Resources Specialist responsible for sup...</td>\n",
       "    </tr>\n",
       "    <tr>\n",
       "      <th>4</th>\n",
       "      <td>4</td>\n",
       "      <td>Generate a job description for a Project Manag...</td>\n",
       "      <td>Project Manager responsible for overseeing and...</td>\n",
       "    </tr>\n",
       "  </tbody>\n",
       "</table>\n",
       "</div>"
      ],
      "text/plain": [
       "   Unnamed: 0                                        instruction  \\\n",
       "0           0  Generate a job description for a Software Engi...   \n",
       "1           1  Generate a job description for a Marketing Man...   \n",
       "2           2  Generate a job description for a Data Analyst ...   \n",
       "3           3  Generate a job description for a Human Resourc...   \n",
       "4           4  Generate a job description for a Project Manag...   \n",
       "\n",
       "                                          completion  \n",
       "0  Software Engineer responsible for designing, d...  \n",
       "1  Marketing Manager responsible for leading the ...  \n",
       "2  Data Analyst responsible for collecting, analy...  \n",
       "3  Human Resources Specialist responsible for sup...  \n",
       "4  Project Manager responsible for overseeing and...  "
      ]
     },
     "execution_count": 15,
     "metadata": {},
     "output_type": "execute_result"
    }
   ],
   "source": [
    "df2.head()"
   ]
  },
  {
   "cell_type": "code",
   "execution_count": 16,
   "id": "de192392-a1ab-42d6-bce1-5d4a3906f05a",
   "metadata": {},
   "outputs": [],
   "source": [
    "df2.to_csv(\"job_titles_des_3.csv\" ,index = False)"
   ]
  },
  {
   "cell_type": "markdown",
   "id": "8ff4b858-426f-4dc7-9075-fead732fb724",
   "metadata": {},
   "source": [
    "## dataset by using hugging face in JSON format"
   ]
  },
  {
   "cell_type": "code",
   "execution_count": 17,
   "id": "eacf8c9d-3382-45d8-b286-c1aab0898e29",
   "metadata": {},
   "outputs": [],
   "source": [
    "df3 = pd.read_json(\"hf://datasets/harinathreddy0035/resume_job-descriptions/data.json\")"
   ]
  },
  {
   "cell_type": "code",
   "execution_count": 18,
   "id": "e9fd4a5d-6ca9-4199-a333-fc79a7913e32",
   "metadata": {},
   "outputs": [
    {
     "data": {
      "text/html": [
       "<div>\n",
       "<style scoped>\n",
       "    .dataframe tbody tr th:only-of-type {\n",
       "        vertical-align: middle;\n",
       "    }\n",
       "\n",
       "    .dataframe tbody tr th {\n",
       "        vertical-align: top;\n",
       "    }\n",
       "\n",
       "    .dataframe thead th {\n",
       "        text-align: right;\n",
       "    }\n",
       "</style>\n",
       "<table border=\"1\" class=\"dataframe\">\n",
       "  <thead>\n",
       "    <tr style=\"text-align: right;\">\n",
       "      <th></th>\n",
       "      <th>job_description</th>\n",
       "      <th>resume</th>\n",
       "    </tr>\n",
       "  </thead>\n",
       "  <tbody>\n",
       "    <tr>\n",
       "      <th>0</th>\n",
       "      <td>{'job_title': 'Data Scientist', 'company': 'Te...</td>\n",
       "      <td>{'contact_information': {'name': 'Jane Doe', '...</td>\n",
       "    </tr>\n",
       "    <tr>\n",
       "      <th>1</th>\n",
       "      <td>{'job_title': 'Machine Learning Engineer', 'co...</td>\n",
       "      <td>{'contact_information': {'name': 'John Smith',...</td>\n",
       "    </tr>\n",
       "    <tr>\n",
       "      <th>2</th>\n",
       "      <td>{'job_title': 'Data Engineer', 'company': 'Dat...</td>\n",
       "      <td>{'contact_information': {'name': 'Alice Johnso...</td>\n",
       "    </tr>\n",
       "    <tr>\n",
       "      <th>3</th>\n",
       "      <td>{'job_title': 'Data Scientist', 'company': 'Ho...</td>\n",
       "      <td>{'contact_information': {'name': 'Sara Lee', '...</td>\n",
       "    </tr>\n",
       "    <tr>\n",
       "      <th>4</th>\n",
       "      <td>{'job_title': 'Data Analyst', 'company': 'Mark...</td>\n",
       "      <td>{'contact_information': {'name': 'Tom Adams', ...</td>\n",
       "    </tr>\n",
       "  </tbody>\n",
       "</table>\n",
       "</div>"
      ],
      "text/plain": [
       "                                     job_description  \\\n",
       "0  {'job_title': 'Data Scientist', 'company': 'Te...   \n",
       "1  {'job_title': 'Machine Learning Engineer', 'co...   \n",
       "2  {'job_title': 'Data Engineer', 'company': 'Dat...   \n",
       "3  {'job_title': 'Data Scientist', 'company': 'Ho...   \n",
       "4  {'job_title': 'Data Analyst', 'company': 'Mark...   \n",
       "\n",
       "                                              resume  \n",
       "0  {'contact_information': {'name': 'Jane Doe', '...  \n",
       "1  {'contact_information': {'name': 'John Smith',...  \n",
       "2  {'contact_information': {'name': 'Alice Johnso...  \n",
       "3  {'contact_information': {'name': 'Sara Lee', '...  \n",
       "4  {'contact_information': {'name': 'Tom Adams', ...  "
      ]
     },
     "execution_count": 18,
     "metadata": {},
     "output_type": "execute_result"
    }
   ],
   "source": [
    "df3.head()"
   ]
  },
  {
   "cell_type": "code",
   "execution_count": 19,
   "id": "adcef93d-2498-4987-97bc-06de21daf5ed",
   "metadata": {},
   "outputs": [],
   "source": [
    "df3.to_csv(\"job_titles_des_4_json.csv\" ,index = False)"
   ]
  },
  {
   "cell_type": "markdown",
   "id": "ec5815f6-aed1-4f4d-93e2-2c5088ce9446",
   "metadata": {},
   "source": [
    "## dataset by using hugging face"
   ]
  },
  {
   "cell_type": "code",
   "execution_count": 20,
   "id": "a1a00393-794b-4787-9d10-9bd20742c812",
   "metadata": {},
   "outputs": [],
   "source": [
    "df4 = pd.read_csv(\"hf://datasets/nakamoto-yama/job-descriptions-public/selected_job_descriptions.csv\")"
   ]
  },
  {
   "cell_type": "code",
   "execution_count": 21,
   "id": "d383b097-4ff3-4e67-9cae-0dd3b59d346e",
   "metadata": {},
   "outputs": [
    {
     "data": {
      "text/html": [
       "<div>\n",
       "<style scoped>\n",
       "    .dataframe tbody tr th:only-of-type {\n",
       "        vertical-align: middle;\n",
       "    }\n",
       "\n",
       "    .dataframe tbody tr th {\n",
       "        vertical-align: top;\n",
       "    }\n",
       "\n",
       "    .dataframe thead th {\n",
       "        text-align: right;\n",
       "    }\n",
       "</style>\n",
       "<table border=\"1\" class=\"dataframe\">\n",
       "  <thead>\n",
       "    <tr style=\"text-align: right;\">\n",
       "      <th></th>\n",
       "      <th>id</th>\n",
       "      <th>Job</th>\n",
       "      <th>Description</th>\n",
       "    </tr>\n",
       "  </thead>\n",
       "  <tbody>\n",
       "    <tr>\n",
       "      <th>0</th>\n",
       "      <td>18583</td>\n",
       "      <td>Sr. Software Engineer - NCR Corporation | Buil...</td>\n",
       "      <td>About NCR VOYIX NCR VOYIX Corporation (NYSE: V...</td>\n",
       "    </tr>\n",
       "    <tr>\n",
       "      <th>1</th>\n",
       "      <td>14662</td>\n",
       "      <td>Senior Data Engineer - Quantexa | Built In</td>\n",
       "      <td>Description What we’re all about. It isn’t oft...</td>\n",
       "    </tr>\n",
       "    <tr>\n",
       "      <th>2</th>\n",
       "      <td>15560</td>\n",
       "      <td>Senior Software Engineer (Fullstack) - Zeal | ...</td>\n",
       "      <td>WHO WE ARE We enable growing platforms to buil...</td>\n",
       "    </tr>\n",
       "    <tr>\n",
       "      <th>3</th>\n",
       "      <td>102</td>\n",
       "      <td>Finance Business Analyst - Apex Fintech Soluti...</td>\n",
       "      <td>WHO WE ARE Apex Fintech Solutions (AFS) powers...</td>\n",
       "    </tr>\n",
       "    <tr>\n",
       "      <th>4</th>\n",
       "      <td>830</td>\n",
       "      <td>Sales Data Analyst - Madhive | Built In</td>\n",
       "      <td>Madhive is the leading tech company engineered...</td>\n",
       "    </tr>\n",
       "  </tbody>\n",
       "</table>\n",
       "</div>"
      ],
      "text/plain": [
       "      id                                                Job  \\\n",
       "0  18583  Sr. Software Engineer - NCR Corporation | Buil...   \n",
       "1  14662         Senior Data Engineer - Quantexa | Built In   \n",
       "2  15560  Senior Software Engineer (Fullstack) - Zeal | ...   \n",
       "3    102  Finance Business Analyst - Apex Fintech Soluti...   \n",
       "4    830            Sales Data Analyst - Madhive | Built In   \n",
       "\n",
       "                                         Description  \n",
       "0  About NCR VOYIX NCR VOYIX Corporation (NYSE: V...  \n",
       "1  Description What we’re all about. It isn’t oft...  \n",
       "2  WHO WE ARE We enable growing platforms to buil...  \n",
       "3  WHO WE ARE Apex Fintech Solutions (AFS) powers...  \n",
       "4  Madhive is the leading tech company engineered...  "
      ]
     },
     "execution_count": 21,
     "metadata": {},
     "output_type": "execute_result"
    }
   ],
   "source": [
    "df4.head()"
   ]
  },
  {
   "cell_type": "code",
   "execution_count": 22,
   "id": "cd651b0f-0101-497a-abeb-21c983dd61ac",
   "metadata": {},
   "outputs": [],
   "source": [
    "df4.to_csv(\"job_titles_des_5.csv\" ,index = False)"
   ]
  },
  {
   "cell_type": "code",
   "execution_count": null,
   "id": "21eaeb5c-f63b-433a-a48e-574973cb87d9",
   "metadata": {},
   "outputs": [],
   "source": []
  }
 ],
 "metadata": {
  "kernelspec": {
   "display_name": "Python 3 (ipykernel)",
   "language": "python",
   "name": "python3"
  },
  "language_info": {
   "codemirror_mode": {
    "name": "ipython",
    "version": 3
   },
   "file_extension": ".py",
   "mimetype": "text/x-python",
   "name": "python",
   "nbconvert_exporter": "python",
   "pygments_lexer": "ipython3",
   "version": "3.11.9"
  }
 },
 "nbformat": 4,
 "nbformat_minor": 5
}
